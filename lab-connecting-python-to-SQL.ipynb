{
 "cells": [
  {
   "cell_type": "code",
   "execution_count": 5,
   "id": "96461497-ba86-49ae-ab41-5eb5225684a9",
   "metadata": {},
   "outputs": [
    {
     "name": "stdout",
     "output_type": "stream",
     "text": [
      "Requirement already satisfied: sqlalchemy in /opt/anaconda3/lib/python3.10/site-packages (2.0.34)\n",
      "Requirement already satisfied: typing-extensions>=4.6.0 in /opt/anaconda3/lib/python3.10/site-packages (from sqlalchemy) (4.11.0)\n"
     ]
    }
   ],
   "source": [
    "!pip install sqlalchemy"
   ]
  },
  {
   "cell_type": "code",
   "execution_count": 7,
   "id": "e524cc4d-85a5-497d-a352-757b9dde76db",
   "metadata": {},
   "outputs": [
    {
     "name": "stdout",
     "output_type": "stream",
     "text": [
      "Requirement already satisfied: pymysql in /opt/anaconda3/lib/python3.10/site-packages (1.1.1)\n"
     ]
    }
   ],
   "source": [
    "!pip install pymysql"
   ]
  },
  {
   "cell_type": "code",
   "execution_count": 9,
   "id": "25747de3-9071-4b8e-ae27-173775aee923",
   "metadata": {},
   "outputs": [
    {
     "name": "stdout",
     "output_type": "stream",
     "text": [
      "Version: 2.0.34\n",
      "Note: you may need to restart the kernel to use updated packages.\n"
     ]
    }
   ],
   "source": [
    "pip show sqlalchemy | grep Version"
   ]
  },
  {
   "cell_type": "code",
   "execution_count": 5,
   "id": "aaeec626-226a-4c25-aaa9-28e2b028a7f9",
   "metadata": {},
   "outputs": [
    {
     "name": "stdin",
     "output_type": "stream",
     "text": [
      " ········\n"
     ]
    }
   ],
   "source": [
    "import pandas as pd\n",
    "import numpy as np\n",
    "import pymysql\n",
    "from sqlalchemy import create_engine\n",
    "import getpass  # To get the password without showing the input\n",
    "password = getpass.getpass()"
   ]
  },
  {
   "cell_type": "code",
   "execution_count": 9,
   "id": "a2db06df-d1a4-49ad-bd06-feb12c593b8c",
   "metadata": {},
   "outputs": [
    {
     "name": "stdout",
     "output_type": "stream",
     "text": [
      "Successfully connected to the Sakila database!\n",
      "Available tables in the Sakila database:\n",
      "              Tables_in_sakila\n",
      "0                        actor\n",
      "1                   actor_info\n",
      "2                      address\n",
      "3                     category\n",
      "4                         city\n",
      "5                      country\n",
      "6                     customer\n",
      "7                customer_list\n",
      "8      customer_rental_summary\n",
      "9                         film\n",
      "10                  film_actor\n",
      "11               film_category\n",
      "12                   film_list\n",
      "13                   film_text\n",
      "14                   inventory\n",
      "15                    language\n",
      "16  nicer_but_slower_film_list\n",
      "17                     payment\n",
      "18                      rental\n",
      "19      sales_by_film_category\n",
      "20              sales_by_store\n",
      "21                       staff\n",
      "22                  staff_list\n",
      "23                       store\n"
     ]
    }
   ],
   "source": [
    "# Define database and connection string for Sakila\n",
    "bd = \"sakila\" \n",
    "password = \"\"  # Replace with actual password\n",
    "connection_string = 'mysql+pymysql://root:' + password + '@localhost/' + bd\n",
    "    \n",
    "try:\n",
    "    # Create engine\n",
    "    engine = create_engine(connection_string)\n",
    "    \n",
    "    # Test the connection\n",
    "    with engine.connect() as connection:\n",
    "        print(\"Successfully connected to the Sakila database!\")\n",
    "        \n",
    "        # Test query to show tables\n",
    "        query = \"SHOW TABLES;\"\n",
    "        tables = pd.read_sql(query, connection)\n",
    "        print(\"\\\n",
    "Available tables in the Sakila database:\")\n",
    "        print(tables)\n",
    "\n",
    "except Exception as e:\n",
    "    print(\"Error connecting to the database:\", str(e))"
   ]
  },
  {
   "cell_type": "code",
   "execution_count": 11,
   "id": "e8474da6-6f58-4085-ace9-3e112a6f1b0e",
   "metadata": {},
   "outputs": [],
   "source": [
    "def rentals_month(engine, month, year):\n",
    "    \"\"\"\n",
    "    Retrieve rental data for a specific month and year from the Sakila film database.\n",
    "\n",
    "    Parameters:\n",
    "    engine (sqlalchemy.engine.base.Engine): Database connection engine.\n",
    "    month (int): Month for which rental data is to be retrieved.\n",
    "    year (int): Year for which rental data is to be retrieved.\n",
    "\n",
    "    Returns:\n",
    "    pandas.DataFrame: Rental data for the specified month and year.\n",
    "    \"\"\"\n",
    "    query = f\"\"\"\n",
    "    SELECT customer_id, COUNT(*) as rentals_count\n",
    "    FROM rental\n",
    "    WHERE MONTH(rental_date) = {month} AND YEAR(rental_date) = {year}\n",
    "    GROUP BY customer_id;\n",
    "    \"\"\"\n",
    "\n",
    "    with engine.connect() as connection:\n",
    "        data = pd.read_sql(query, connection)\n",
    "    return data"
   ]
  },
  {
   "cell_type": "code",
   "execution_count": 13,
   "id": "07cf8cf7-5ddf-475f-bfca-ba40c9f69e4b",
   "metadata": {},
   "outputs": [
    {
     "name": "stdout",
     "output_type": "stream",
     "text": [
      "Function updated and ready for real data from Sakila database.\n"
     ]
    }
   ],
   "source": [
    "def rental_count_month(df, month, year):\n",
    "    \"\"\"\n",
    "    Calculate the number of rentals per customer for a specific month and year.\n",
    "    \n",
    "    Parameters:\n",
    "    df: pandas DataFrame from rentals_month function\n",
    "    month: int, month number (1-12)\n",
    "    year: int, year\n",
    "    \n",
    "    Returns:\n",
    "    pandas DataFrame with customer_id and their rental count for the specified month/year\n",
    "    \"\"\"\n",
    "    # Create column name based on month and year\n",
    "    column_name = f\"sakila_rentals_{str(month).zfill(2)}_{year}\"\n",
    "    \n",
    "    # Group by customer_id and count rentals\n",
    "    rental_counts = df.groupby('customer_id')['rental_id'].count().reset_index()\n",
    "    \n",
    "    # Rename count column to reflect month and year\n",
    "    rental_counts = rental_counts.rename(columns={'rental_id': column_name})\n",
    "    \n",
    "    return rental_counts\n",
    "\n",
    "print(\"Function updated and ready for real data from Sakila database.\")"
   ]
  },
  {
   "cell_type": "code",
   "execution_count": 15,
   "id": "5daa7c01-1b50-4834-b2d6-37d881c8eddd",
   "metadata": {},
   "outputs": [
    {
     "name": "stdout",
     "output_type": "stream",
     "text": [
      "Function updated and ready for real data from Sakila database.\n"
     ]
    }
   ],
   "source": [
    "# Updated function without mock data\n",
    "def compare_rentals(df1, df2):\n",
    "    \"\"\"\n",
    "    Compare the number of rentals made by each customer in two different months/years.\n",
    "\n",
    "    Parameters:\n",
    "    df1: pandas DataFrame containing rental counts for the first month/year\n",
    "    df2: pandas DataFrame containing rental counts for the second month/year\n",
    "\n",
    "    Returns:\n",
    "    pandas DataFrame with customer_id, rental counts for both months/years, and the difference\n",
    "    \"\"\"\n",
    "    # Merge the two DataFrames on customer_id\n",
    "    combined_df = pd.merge(df1, df2, on='customer_id', how='outer', suffixes=('_month1', '_month2'))\n",
    "\n",
    "    # Fill NaN values with 0 (in case some customers are missing in one of the months)\n",
    "    combined_df = combined_df.fillna(0)\n",
    "\n",
    "    # Extract column names for rental counts\n",
    "    rental_col1 = combined_df.columns[1]  # First rental column\n",
    "    rental_col2 = combined_df.columns[2]  # Second rental column\n",
    "\n",
    "    # Calculate the difference and add a new column\n",
    "    combined_df['difference'] = combined_df[rental_col1] - combined_df[rental_col2]\n",
    "\n",
    "    return combined_df\n",
    "\n",
    "print(\"Function updated and ready for real data from Sakila database.\")"
   ]
  },
  {
   "cell_type": "code",
   "execution_count": null,
   "id": "d27a1a58-c53c-465a-b00e-ed3e93e0560e",
   "metadata": {},
   "outputs": [],
   "source": []
  }
 ],
 "metadata": {
  "kernelspec": {
   "display_name": "Python 3 (ipykernel)",
   "language": "python",
   "name": "python3"
  },
  "language_info": {
   "codemirror_mode": {
    "name": "ipython",
    "version": 3
   },
   "file_extension": ".py",
   "mimetype": "text/x-python",
   "name": "python",
   "nbconvert_exporter": "python",
   "pygments_lexer": "ipython3",
   "version": "3.10.15"
  }
 },
 "nbformat": 4,
 "nbformat_minor": 5
}
